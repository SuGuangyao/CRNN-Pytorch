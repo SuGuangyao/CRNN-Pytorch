{
 "cells": [
  {
   "cell_type": "code",
   "execution_count": 16,
   "metadata": {},
   "outputs": [],
   "source": [
    "import os\n",
    "import glob\n",
    "\n",
    "import torch\n",
    "from torch.utils.data import Dataset\n",
    "from scipy import signal\n",
    "from scipy.io import wavfile\n",
    "import cv2\n",
    "from PIL import Image\n",
    "import numpy as np"
   ]
  },
  {
   "cell_type": "code",
   "execution_count": 2,
   "metadata": {},
   "outputs": [],
   "source": [
    "class Synth90kDataset(Dataset):\n",
    "    CHARS = '0123456789abcdefghijklmnopqrstuvwxyz'\n",
    "    CHAR2LABEL = {char: i + 1 for i, char in enumerate(CHARS)}\n",
    "    LABEL2CHAR = {label: char for char, label in CHAR2LABEL.items()}\n",
    "\n",
    "    def __init__(self, root_dir=None, mode=None, paths=None, img_height=32, img_width=100):\n",
    "        if root_dir and mode and not paths:\n",
    "            paths, texts = self._load_from_raw_files(root_dir, mode)\n",
    "        elif not root_dir and not mode and paths:\n",
    "            texts = None\n",
    "\n",
    "        self.paths = paths\n",
    "        self.texts = texts\n",
    "        self.img_height = img_height\n",
    "        self.img_width = img_width\n",
    "\n",
    "    def _load_from_raw_files(self, root_dir, mode):\n",
    "        mapping = {}\n",
    "        with open(os.path.join(root_dir, 'lexicon.txt'), 'r') as fr:\n",
    "            for i, line in enumerate(fr.readlines()):\n",
    "                mapping[i] = line.strip()\n",
    "\n",
    "        paths_file = None\n",
    "        if mode == 'train':\n",
    "            paths_file = 'annotation_train.txt'\n",
    "        elif mode == 'dev':\n",
    "            paths_file = 'annotation_val.txt'\n",
    "        elif mode == 'test':\n",
    "            paths_file = 'annotation_test.txt'\n",
    "\n",
    "        paths = []\n",
    "        texts = []\n",
    "        with open(os.path.join(root_dir, paths_file), 'r') as fr:\n",
    "            for line in fr.readlines():\n",
    "                path, index_str = line.strip().split(' ')\n",
    "                path = os.path.join(root_dir, path)\n",
    "                index = int(index_str)\n",
    "                text = mapping[index]\n",
    "                paths.append(path)\n",
    "                texts.append(text)\n",
    "        return paths, texts\n",
    "\n",
    "    def __len__(self):\n",
    "        return len(self.paths)\n",
    "\n",
    "    def __getitem__(self, index):\n",
    "        path = self.paths[index]\n",
    "\n",
    "        try:\n",
    "            image = Image.open(path).convert('L')  # grey-scale\n",
    "        except IOError:\n",
    "            print('Corrupted image for %d' % index)\n",
    "            return self[index + 1]\n",
    "\n",
    "        image = image.resize((self.img_width, self.img_height), resample=Image.BILINEAR)\n",
    "        image = np.array(image)\n",
    "        image = image.reshape((1, self.img_height, self.img_width))\n",
    "        image = (image / 127.5) - 1.0\n",
    "\n",
    "        image = torch.FloatTensor(image)\n",
    "        if self.texts:\n",
    "            text = self.texts[index]\n",
    "            target = [self.CHAR2LABEL[c] for c in text]\n",
    "            target_length = [len(target)]\n",
    "\n",
    "            target = torch.LongTensor(target)\n",
    "            target_length = torch.LongTensor(target_length)\n",
    "            # 如果DataLoader不设置collate_fn,则此处返回值为迭代DataLoader时取到的值\n",
    "            return image, target, target_length\n",
    "        else:\n",
    "            return image\n"
   ]
  },
  {
   "cell_type": "code",
   "execution_count": 3,
   "metadata": {},
   "outputs": [],
   "source": [
    "def synth90k_collate_fn(batch):\n",
    "    # zip(*batch)拆包\n",
    "    images, targets, target_lengths = zip(*batch)\n",
    "    # stack就是向量堆叠的意思。一定是扩张一个维度，然后在扩张的维度上，把多个张量纳入仅一个张量。想象向上摞面包片，摞的操作即是stack，0轴即按块stack\n",
    "    images = torch.stack(images, 0)\n",
    "    # cat是指向量拼接的意思。一定不扩张维度，想象把两个长条向量cat成一个更长的向量。\n",
    "    targets = torch.cat(targets, 0)\n",
    "    target_lengths = torch.cat(target_lengths, 0)\n",
    "    # 此处返回的数据即使train_loader每次取到的数据，迭代train_loader，每次都会取到三个值，即此处返回值。\n",
    "    return images, targets, target_lengths"
   ]
  },
  {
   "cell_type": "code",
   "execution_count": 4,
   "metadata": {},
   "outputs": [],
   "source": [
    "from torch.utils.data import DataLoader\n",
    "from config import train_config as config"
   ]
  },
  {
   "cell_type": "code",
   "execution_count": 5,
   "metadata": {},
   "outputs": [],
   "source": [
    "img_width = config['img_width']\n",
    "img_height = config['img_height']\n",
    "data_dir = config['data_dir']\n",
    "train_batch_size = config['train_batch_size']\n",
    "cpu_workers = config['cpu_workers']"
   ]
  },
  {
   "cell_type": "code",
   "execution_count": 6,
   "metadata": {},
   "outputs": [],
   "source": [
    "train_dataset = Synth90kDataset(root_dir=data_dir, mode='train',\n",
    "                                    img_height=img_height, img_width=img_width)\n",
    "train_loader = DataLoader(\n",
    "    dataset=train_dataset,\n",
    "    batch_size=train_batch_size,\n",
    "    shuffle=True,\n",
    "    num_workers=cpu_workers,\n",
    "    collate_fn=synth90k_collate_fn)"
   ]
  },
  {
   "cell_type": "code",
   "execution_count": 25,
   "metadata": {},
   "outputs": [],
   "source": [
    "train_data = train_dataset.__getitem__(136)"
   ]
  },
  {
   "cell_type": "code",
   "execution_count": 26,
   "metadata": {},
   "outputs": [
    {
     "name": "stdout",
     "output_type": "stream",
     "text": [
      "train_data的类型是：<class 'tuple'>\n",
      "train_data的长度是：3\n"
     ]
    }
   ],
   "source": [
    "print(f'train_data的类型是：{type(train_data)}')\n",
    "print(f'train_data的长度是：{len(train_data)}')"
   ]
  },
  {
   "cell_type": "code",
   "execution_count": 27,
   "metadata": {},
   "outputs": [
    {
     "data": {
      "text/plain": [
       "(tensor([[[0.3020, 0.2941, 0.2863,  ..., 0.2941, 0.2863, 0.3020],\n",
       "          [0.3020, 0.2941, 0.2863,  ..., 0.2941, 0.2941, 0.2941],\n",
       "          [0.3020, 0.2941, 0.2863,  ..., 0.2941, 0.3020, 0.2941],\n",
       "          ...,\n",
       "          [0.2941, 0.3020, 0.3020,  ..., 0.2941, 0.2941, 0.2941],\n",
       "          [0.3020, 0.2863, 0.3020,  ..., 0.2941, 0.2941, 0.2941],\n",
       "          [0.3176, 0.2784, 0.3020,  ..., 0.2941, 0.2941, 0.2941]]]),\n",
       " tensor([14, 15, 30, 15, 28, 23, 19, 24, 11, 24, 30, 29]),\n",
       " tensor([12]))"
      ]
     },
     "execution_count": 27,
     "metadata": {},
     "output_type": "execute_result"
    }
   ],
   "source": [
    "train_data"
   ]
  },
  {
   "cell_type": "code",
   "execution_count": 28,
   "metadata": {},
   "outputs": [],
   "source": [
    "img = train_data[0]\n",
    "label_idx = train_data[1]\n",
    "label_length = train_data[2]"
   ]
  },
  {
   "cell_type": "code",
   "execution_count": 29,
   "metadata": {},
   "outputs": [
    {
     "name": "stdout",
     "output_type": "stream",
     "text": [
      "img的类型是：<class 'torch.Tensor'>\n",
      "img的shape是：torch.Size([1, 32, 100])\n",
      "img matrix如下:\n",
      "tensor([[[0.3020, 0.2941, 0.2863,  ..., 0.2941, 0.2863, 0.3020],\n",
      "         [0.3020, 0.2941, 0.2863,  ..., 0.2941, 0.2941, 0.2941],\n",
      "         [0.3020, 0.2941, 0.2863,  ..., 0.2941, 0.3020, 0.2941],\n",
      "         ...,\n",
      "         [0.2941, 0.3020, 0.3020,  ..., 0.2941, 0.2941, 0.2941],\n",
      "         [0.3020, 0.2863, 0.3020,  ..., 0.2941, 0.2941, 0.2941],\n",
      "         [0.3176, 0.2784, 0.3020,  ..., 0.2941, 0.2941, 0.2941]]])\n"
     ]
    }
   ],
   "source": [
    "print(f'img的类型是：{type(img)}')\n",
    "print(f'img的shape是：{img.shape}')\n",
    "print('img matrix如下:')\n",
    "print(img)"
   ]
  },
  {
   "cell_type": "code",
   "execution_count": 30,
   "metadata": {},
   "outputs": [],
   "source": [
    "import matplotlib.pyplot as plt"
   ]
  },
  {
   "cell_type": "code",
   "execution_count": 31,
   "metadata": {},
   "outputs": [
    {
     "data": {
      "image/png": "[encoded data removed]",
      "text/plain": [
       "<Figure size 432x288 with 1 Axes>"
      ]
     },
     "metadata": {
      "needs_background": "light"
     },
     "output_type": "display_data"
    }
   ],
   "source": [
    "img = np.transpose(img, (1, 2, 0))\n",
    "plt.imshow(img)\n",
    "plt.show()"
   ]
  },
  {
   "cell_type": "code",
   "execution_count": 32,
   "metadata": {},
   "outputs": [
    {
     "name": "stdout",
     "output_type": "stream",
     "text": [
      "label为：determinants\n"
     ]
    }
   ],
   "source": [
    "chars = '0123456789abcdefghijklmnopqrstuvwxyz'\n",
    "label = ''\n",
    "for idx in label_idx:\n",
    "    label += chars[idx-1]\n",
    "print(f'label为：{label}')"
   ]
  },
  {
   "cell_type": "code",
   "execution_count": null,
   "metadata": {},
   "outputs": [],
   "source": []
  },
  {
   "cell_type": "code",
   "execution_count": null,
   "metadata": {},
   "outputs": [],
   "source": []
  }
 ],
 "metadata": {
  "kernelspec": {
   "display_name": "Python 3",
   "language": "python",
   "name": "python3"
  },
  "language_info": {
   "codemirror_mode": {
    "name": "ipython",
    "version": 3
   },
   "file_extension": ".py",
   "mimetype": "text/x-python",
   "name": "python",
   "nbconvert_exporter": "python",
   "pygments_lexer": "ipython3",
   "version": "3.6.6"
  }
 },
 "nbformat": 4,
 "nbformat_minor": 4
}
